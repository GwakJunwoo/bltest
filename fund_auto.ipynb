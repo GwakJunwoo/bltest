{
 "cells": [
  {
   "cell_type": "code",
   "execution_count": 45,
   "metadata": {},
   "outputs": [
    {
     "data": {
      "text/plain": [
       "[[0, 2], [2, 1]]"
      ]
     },
     "execution_count": 45,
     "metadata": {},
     "output_type": "execute_result"
    }
   ],
   "source": [
    "import pandas as pd\n",
    "import numpy as np\n",
    "\n",
    "df = pd.DataFrame({'a' : [1,2,3,4,5,6,7], 'b' : [1,2,'a', 'b', 5,6,7], 'c' : ['a', 'b', 'd', 4, 5, 6, 7]})\n",
    "\n",
    "def where(df, item):\n",
    "    target =  np.where(df.to_numpy()==item)\n",
    "    try:\n",
    "        sol = [[i,j] for i, j in target]\n",
    "    except:\n",
    "        return None\n",
    "    return sol\n",
    "    \n",
    "where(df, 'a')"
   ]
  },
  {
   "cell_type": "code",
   "execution_count": 75,
   "metadata": {},
   "outputs": [],
   "source": [
    "def get_data(df, start_point, rows_num = 10, columns_num = 2, full_left = False):\n",
    "    if full_left:\n",
    "        return df.iloc[start_point[0]:start_point[0]+rows_num, start_point[1]:]\n",
    "    else:\n",
    "        return df.iloc[start_point[0]:start_point[0]+rows_num, start_point[1]:start_point[1]+columns_num]\n",
    "\n",
    "def cut_old(df, last_lines_num=2):\n",
    "    start_point = len(df.columns)-last_lines_num\n",
    "    return df.iloc[:,start_point:]"
   ]
  },
  {
   "cell_type": "code",
   "execution_count": 76,
   "metadata": {},
   "outputs": [
    {
     "data": {
      "text/html": [
       "<div>\n",
       "<style scoped>\n",
       "    .dataframe tbody tr th:only-of-type {\n",
       "        vertical-align: middle;\n",
       "    }\n",
       "\n",
       "    .dataframe tbody tr th {\n",
       "        vertical-align: top;\n",
       "    }\n",
       "\n",
       "    .dataframe thead th {\n",
       "        text-align: right;\n",
       "    }\n",
       "</style>\n",
       "<table border=\"1\" class=\"dataframe\">\n",
       "  <thead>\n",
       "    <tr style=\"text-align: right;\">\n",
       "      <th></th>\n",
       "      <th>b</th>\n",
       "      <th>c</th>\n",
       "    </tr>\n",
       "  </thead>\n",
       "  <tbody>\n",
       "    <tr>\n",
       "      <th>0</th>\n",
       "      <td>1</td>\n",
       "      <td>a</td>\n",
       "    </tr>\n",
       "    <tr>\n",
       "      <th>1</th>\n",
       "      <td>2</td>\n",
       "      <td>b</td>\n",
       "    </tr>\n",
       "    <tr>\n",
       "      <th>2</th>\n",
       "      <td>a</td>\n",
       "      <td>d</td>\n",
       "    </tr>\n",
       "    <tr>\n",
       "      <th>3</th>\n",
       "      <td>b</td>\n",
       "      <td>4</td>\n",
       "    </tr>\n",
       "    <tr>\n",
       "      <th>4</th>\n",
       "      <td>5</td>\n",
       "      <td>5</td>\n",
       "    </tr>\n",
       "    <tr>\n",
       "      <th>5</th>\n",
       "      <td>6</td>\n",
       "      <td>6</td>\n",
       "    </tr>\n",
       "    <tr>\n",
       "      <th>6</th>\n",
       "      <td>7</td>\n",
       "      <td>7</td>\n",
       "    </tr>\n",
       "  </tbody>\n",
       "</table>\n",
       "</div>"
      ],
      "text/plain": [
       "   b  c\n",
       "0  1  a\n",
       "1  2  b\n",
       "2  a  d\n",
       "3  b  4\n",
       "4  5  5\n",
       "5  6  6\n",
       "6  7  7"
      ]
     },
     "execution_count": 76,
     "metadata": {},
     "output_type": "execute_result"
    }
   ],
   "source": [
    "frame = {\n",
    "    'Country': None,\n",
    "    'Type': None, # kospi, kosdaq\n",
    "    'sector': None,\n",
    "    'topten': None,\n",
    "    'turnover': None,\n",
    "    'ratio': None,\n",
    "    'bonds': None,\n",
    "}"
   ]
  }
 ],
 "metadata": {
  "kernelspec": {
   "display_name": "pyexcel",
   "language": "python",
   "name": "python3"
  },
  "language_info": {
   "codemirror_mode": {
    "name": "ipython",
    "version": 3
   },
   "file_extension": ".py",
   "mimetype": "text/x-python",
   "name": "python",
   "nbconvert_exporter": "python",
   "pygments_lexer": "ipython3",
   "version": "3.10.8"
  },
  "orig_nbformat": 4,
  "vscode": {
   "interpreter": {
    "hash": "ba18e3711a8457087ac6591f45d1ec2b7576e54bb08f741dfb26949b9b783d22"
   }
  }
 },
 "nbformat": 4,
 "nbformat_minor": 2
}
